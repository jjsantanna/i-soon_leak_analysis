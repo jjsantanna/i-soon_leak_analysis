{
  "nbformat": 4,
  "nbformat_minor": 0,
  "metadata": {
    "colab": {
      "provenance": []
    },
    "kernelspec": {
      "name": "python3",
      "display_name": "Python 3"
    },
    "language_info": {
      "name": "python"
    }
  },
  "cells": [
    {
      "cell_type": "markdown",
      "source": [
        "# Investigating the I-Soon Leak\n",
        " - Jasmine C. Jethu _s2739488_\n",
        " - Baris Yilmaz _s2968525_\n",
        " - Ruben Hannink _s2990067_\n"
      ],
      "metadata": {
        "id": "VYNpQptqJvMZ"
      }
    },
    {
      "cell_type": "markdown",
      "source": [
        "## Blog posts\n",
        "\n",
        "We used the following three blog posts:\n",
        " - \"isoon leak analysis\" from _inside the lab_ [[link]](https://harfanglab.io/insidethelab/isoon-leak-analysis/)\n",
        " - \"I-Soon GitHub Leak: What Cyber Experts Learned About Chinese Cyber Espionage\" from _Infosecurity Magazine_ [[link]](https://www.infosecurity-magazine.com/news-features/isoon-github-leak-chinese-cyber/)\n",
        " - \"I-Soon leak: KELA’s insights\" from KELA Cyber Threat Intelligence Platform  [[link]](https://www.kelacyber.com/blog/i-soon-leak-kelas-insights/)"
      ],
      "metadata": {
        "id": "N6mcWzs7TPb0"
      }
    },
    {
      "cell_type": "markdown",
      "source": [
        "### 1. Findings\n",
        "| Finding | Rephrashed question | Leaked data or other source| Type of finding|Validation|\n",
        "|---------|---------------------|----------------------------| ------|--------|\n",
        "| The company has roughly 70 employees | What does the structure of I-Soon look like? How is the structure of I-Soon built up? | Other source | Structure of I-Soon| ...|\n",
        "| The compnay has 3 subsidiaries (Chengdu since 2015, Yunnan since 2017, Jiangsu since 2020) | How is the structure of I-Soon built up? | Other source | Structure of I-Soon| ... |  \n",
        "| I-Soon is officially a company for penetration testing, and developing cyber security solutions and trainings | What type of company is I-Soon? | Other source | Company Info| ... |\n",
        "| Since 2013 an \"APT Research\" division has been tasked with completing \"overseas APT Projects\"<br> - The research division is split up in 3 penetration teams and 1 security research team | What does I-Soon's specifc research division look like? | Leaked data | Structure of I-Soon| ...|\n",
        "| The research division provides the following services:<br> - Access acquisition (provide access to a victim's network)<br> - Data exfiltration (collect data from a victim)<br> - Intelligence production (Analyse the stolen data) | What does I-Soon's research division do? | Leaked data | Tactics| ... |\n",
        "| Their products contain off-the-shelf malware like their \"Security System\" for windows, which contains a rat which has capabilities like:<br> - keylogging<br> - taking screen captures<br> - monitoring recent documents | What type of products and services does I-Soon provide? | Leaked data | Tactics | Windows Remote Control Management System: Product White Paper; Professional Digital Intelligence Solution Provider: Product manual (1.3) |\n",
        "| The leak contains specifications for a backdoor, which is yet to be created | Are there any indications of backdoors? | Leaked data | Software and tools | ... |\n",
        "| There are indications of malware like the \"Security System\" being designed for macOS | Which  type of hacking software or practices does I-Soon use?| Leaked data | Types of attacks | Leaked Excel sheet containing product and platform information: Anxun Information Product Quote List; Professional Digital Intelligence Solution Provider: Product manual (1.4) | |\n",
        "| They have a trojan for IOS and Android devices which are capable of:<br> - collecting device information<br> - Tracking the victim over time<br>  - Activated the microphone to listen and record to conversations<br> - all files an contacts can be extracted<br> - Access to SMS and instant messenger (Android only)<br> - Remote Wi-Fi and camera control (Android only)<br> - Network traffic capture (Android only)<br> - Survive factory resets (Android only, requires root access) | Which type of hacking software or practices does I-Soon use? What do these trojans look like? | Leaked data | Tools| Leaked conversation number 12; Professional Digital Intelligence Solution Provider: Product manual (1.5, 1.6)   |\n",
        "| There are mentions of a Wi-Fi access point that can infect Android devices that connect to it | Which type of hacking software or practices does I-Soon use? | Leaked data | Software and tools | ... |\n",
        "| I-Soon's catalog does not contain a lot of software vulnerabilities | What kind of vulnerabilities does I-Soonn exploit | Other source | Software | ... |\n",
        "| They own a penetration testing platform which can determine if a machine is up, scan its ports, and attempt exploitation of the machine. | Which type of hacking software or practices does I-Soon use? Which different types of hacking platforms does I-Soon own? | Leaked data | Software and tools | ... |\n",
        "| I-Soon has an email analysis platform, allowing easy keyword searches, creating social graphs, automatically clasify emails,<br> and (if provided with credentials) automatically retrieve emails | Which different types of hacking platforms does I-Soon own? | Leaked data | Software | Microsoft Email Secret Capture Platform: Product Manual, Leaked Excel sheet containing product and platform information: Anxun Information Product Quote List|\n",
        "| They have instructions/platforms for phishing or sending malware to get access to outlook, Gmail and POP3/IMAP  |Which type of hacking software or practices does I-Soon use? Which different types of hacking platforms does I-Soon own? | Leaked data | Software| Microsoft Email Secret Capture Platform: Platform Manual| professional\n",
        "| Multiple platforms were found that ingest structured or unstructured data and makes it easy to use for non-technical analysts | Which different types of hacking platforms does I-Soon own? | Leaked data | Tools | ... |\n",
        "| They collected (hacked) gambling data, including personally identifiable information | Does I-Soon own personally identifiable data? | Leaked data | Victim data| ... |\n",
        "| There appears to be a cyber range used for training excersises, simulating \"real combat\" | How are I-Soons training exercises designed? | Leaked data | Tactics | Integrated Combat Platform: Product White paper; Integrated Training Platform: Porduct White Paper |\n",
        "| They make windows notebooks which attempts to recreate kali linux | Does I-Soon also create hardware tools | Leaked data | Tools | ... |\n",
        "| They make a small device that automatically scans and attempts to break into Wi-Fi networks | Which type of hacking software or practices does I-Soon use? What type of hacking practices does I-Soon specifically use for Wi-Fi? | Leaked data | Software and tools, pattern of attacks | Professional digital intelligence solution provider: Product manual (1.8, 2.1)  |\n",
        "| They create a Wi-Fi terminal positioning system which can locate a Wi-Fi device with a precision of 1 meter | Which type of hacking software or practices does I-Soon use? What type of hacking practices does I-Soon specifically use for Wi-Fi? | Leaked data | Software and tools | Professional digital intelligence solution provider: Product manual (1.8, 2.1) |\n",
        "| They make routers with an integrated SIM card to route internet traffic trough nodes all around the world<br> and a similar router to bypass the internet firewall of china | Which type of hacking software or practices does I-Soon use? | Leaked data | Software and tools, pattern of attacks | ... |\n",
        "| The data included the fees earned by I-Soon for their hackings. For collecting data from the Vietnamese Ministry of Economy earned I-SOon $55,000 , while other ministries were worth less. | How much does I-Soon earn with a hack? | Leaked data | Fees | ...|\n",
        "| I-Soon has brushed of hackings as 'accidents' before, whenever a victim was not on the target list. For example, employees hacking into universities.  | What are specific tactics used by I-Soon to protect their image? | Leaked data | Tactics | ... |\n",
        "| I-Soon targets regions like Central Asia, Southeast Asia, Hong Kong, Macao and Taiwan. Additionally, Indian and Nepalese governments are targeted; their minitries of foreign affairs, defense, home affairs, finance and the Nepalese presidential palace.   | What regions or locations are specifically targeted by I-Soon? | Leaked data | Target Information | Leaked Excel Target sheet. |\n",
        "| I-Soon also targets regions outside of Asia, like France, Nigeria, Rwanda, Egypt and Turkey. Their government entities, telecommunications firms, medical organisations and academic sectors were targeted. | What regions or locations are specifically targeted by I-Soon?| Leaked data | Target Information | Leaked conversation number 4.; leaked Excel Target Sheet: |\n",
        "| I-Soon wants to land surveillance plans in China's xinjiang province, home of the Uyghur Muslim Minority.  | What are I-Soon's plans for the future? | Leaked data | Plans | ... |\n",
        "| I-Soon was part of other malicious compaigns, like the September 2022 sypply chain attack in the Canadian software company Comm100 | In what other unknown practices or campaigns was I-Soon involved? | Leaked data| Other Info | ... |\n",
        "|I-Soon has a twitter analysis platform, allowing to investigate the users that posted tweets, xStealer/TwitterStealer| Which type of hacking software or practices does I-Soon use?| Leaked data | Software and tactics| Leaked conversation number 10. |\n",
        "|I-Soon’s clients were Chinese provincial- and city-level governmental bodies, most of which were local public security bureaus.|Who were the clients of I-Soon, who used its services?|Other source (contract ledger)|Client info|...|"
      ],
      "metadata": {
        "id": "bjIJZ6drKL29"
      }
    },
    {
      "cell_type": "markdown",
      "source": [
        "### 2. 5 Pieces of Information that need further investigation\n",
        " |Information|Translated Conversation|Why?|\n",
        " |-----------|-----------------------|----|\n",
        " |Here, there is talked about how it can be difficult to enter 'the Rujie device' indicating a client would want to enter this deivce, even though it may not be possible. | no. 4| This is locking people out of their devices, effectively losing control over it which is why it is illegal and should be investigated.\n",
        " |Here, possible targets are discussed. These targets include Turkey, Brazil and the USA, as well as universities and the Indonesian Ministry of Commerce|no. 4| This should be investigated because future attacks can be avoided, obviously illegal.\n",
        " |In this conversation there is talking about checking an IP address belonigng to a cellphone. Moreover the proxy has to be checked as well as additional historical data.|no.6 | Privacy is illegally compromised with this IP address checking.\n",
        " |In this conversation, it appears an employee of I-Soon wants to be partners with a hacker. They are discussing fees as well as the services and products the hacker provides. Whatsapp is mentioned. Twitter platforms are mentioned, and the employee asks the hacker if its possible to create the same type of platform for Facebook.|no.10| It depends what the hacker's function will be whether it is legal or illegal, though, within the context of I-Soon, it does not seem like ethical hacking, hence it should be investigated what the hacker has done, both for I-soon and for other employers.\n",
        " |In this conversation, there are talks of a WiFi attacking tool which may be used for malicious attacks.|no.41| Illegal if used for malicious attacks, should be investigated and stopped before it is used (more)."
      ],
      "metadata": {
        "id": "PZ-03sWYKMsE"
      }
    },
    {
      "cell_type": "markdown",
      "source": [
        "### 3. Proposing 3 hypotheses\n",
        "1. The company is earning millions within a year.\n",
        "2. I-Soon collects and provides chat logs on specific people if desired by a client.\n",
        "3. I-Soon assists the police in some cases (which require the collection of data)."
      ],
      "metadata": {
        "id": "AbmBq0DDFZlk"
      }
    }
  ]
}